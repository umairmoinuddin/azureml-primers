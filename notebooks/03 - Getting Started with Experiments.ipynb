{
 "cells": [
  {
   "cell_type": "markdown",
   "metadata": {},
   "source": [
    "# Exercise 3 - Getting Started with Experiments\n",
    "\n",
    "So far, you've spent a lot of time setting up your Azure ML workspace; and you may be beginning to wonder what benefits this will bring to your day-to-day data science activities. Well, there are lots of benefits, which we'll explore in detail in later exercises; but for now, let's see how Azure ML can help track metrics from a simple experiment that uses Python code to examine some data.\n",
    "\n",
    "> **Important**: This exercise assumes you have completed the previous exercises in this lab - specifically, you must have:\n",
    ">\n",
    "> - Created an Azure ML Workspace.\n",
    ">\n",
    "> If you haven't done that, go back and do it now - we'll wait!\n",
    "\n",
    "## Task 1: Connect to Your Workspace\n",
    "\n",
    "The first thing you need to do is to connect to your workspace using the Azure ML SDK. Let's start by ensuring you still have the latest version installed."
   ]
  },
  {
   "cell_type": "code",
   "execution_count": null,
   "metadata": {},
   "outputs": [],
   "source": [
    "!pip install --upgrade azureml-sdk[notebooks]\n",
    "\n",
    "import azureml.core\n",
    "print(\"Ready to use Azure ML\", azureml.core.VERSION)"
   ]
  },
  {
   "cell_type": "markdown",
   "metadata": {},
   "source": [
    "Now you're ready to connect to your workspace.\n",
    "\n",
    "> **Note**: If the authenticated session with your Azure subscription has expired since you completed the previous exercise, you'll be prompted to reauthenticate."
   ]
  },
  {
   "cell_type": "code",
   "execution_count": null,
   "metadata": {},
   "outputs": [],
   "source": [
    "from azureml.core import Workspace\n",
    "\n",
    "# Load the workspace from the saved config file\n",
    "ws = Workspace.from_config()\n",
    "print('Ready to work with', ws.name)"
   ]
  },
  {
   "cell_type": "markdown",
   "metadata": {},
   "source": [
    "## Task 2: Run an Experiment\n",
    "\n",
    "One of the most fundamentals tasks that data scientists need to perform is to create and run experiments that process and analyze data. In this exercise, you'll learn how to use an Azure ML *experiment* to run Python code and record values extracted from data. In this case, you'll use a simple dataset that contains details of patients that have been tested for diabetes. You'll run an experiment to explore the data, extracting statistics, visualizations, and data samples. Most of the code you'll use is fairly generic Python, such as you might run in any data exploration process. However, with the addition of a few lines, the code uses an Azure ML *experiment* to log details of the run."
   ]
  },
  {
   "cell_type": "code",
   "execution_count": null,
   "metadata": {
    "scrolled": true
   },
   "outputs": [],
   "source": [
    "from azureml.core import Experiment, Run\n",
    "import pandas as pd\n",
    "import matplotlib.pyplot as plt\n",
    "%matplotlib inline \n",
    "\n",
    "# Create an Azure ML experiment in your workspace\n",
    "experiment_name = 'diabetes-experiment'\n",
    "experiment = Experiment(workspace = ws, name = experiment_name)\n",
    "print(\"Starting experiment:\", experiment.name)\n",
    "\n",
    "# Start logging data from the experiment\n",
    "run = experiment.start_logging()\n",
    "\n",
    "# load the diabetes dataset from a local file\n",
    "data = pd.read_csv('data/diabetes.csv')\n",
    "\n",
    "# Count the rows and log the result\n",
    "row_count = (len(data))\n",
    "run.log(\"observations\", row_count)\n",
    "\n",
    "# Create box plots for each feature variable by the \"diabetic\" label and log them\n",
    "num_cols = data.columns[:-1]\n",
    "for col in num_cols:\n",
    "    fig = plt.figure(figsize=(9, 6))\n",
    "    ax = fig.gca()\n",
    "    data.boxplot(column = col, by = \"Diabetic\", ax = ax)\n",
    "    ax.set_title(col + ' by Diabetic')\n",
    "    ax.set_ylabel(col)\n",
    "    run.log_image(name = col, plot = fig)\n",
    "plt.show()\n",
    "\n",
    "# Create a list of mean diabetes pedigree per age and log it\n",
    "mean_by_age = data[[\"Age\", \"DiabetesPedigree\"]].groupby([\"Age\"]).mean().reset_index()\n",
    "ages = mean_by_age[\"Age\"].tolist()\n",
    "pedigrees = mean_by_age[\"DiabetesPedigree\"].tolist()\n",
    "for index in range(len(ages)):\n",
    "       run.log_row(\"Mean Diabetes Pedigree by Age\", Age = ages[index],Diabetes_Pedigree = pedigrees[index])\n",
    "\n",
    "# Save a sample of the data and upload it to the experiment output\n",
    "data.sample(100).to_csv(\"sample.csv\", index=False, header=True)\n",
    "run.upload_file(name = 'outputs/sample.csv', path_or_stream = './sample.csv')\n",
    "\n",
    "# Complete tracking and get link to details\n",
    "run.complete()"
   ]
  },
  {
   "cell_type": "markdown",
   "metadata": {},
   "source": [
    "## Task 2: View Experiment Results\n",
    "\n",
    "After the experiment has finished running, you can use the **run** object to get information about the run and its outputs:"
   ]
  },
  {
   "cell_type": "code",
   "execution_count": null,
   "metadata": {},
   "outputs": [],
   "source": [
    "import json\n",
    "\n",
    "# Get run details\n",
    "details = run.get_details()\n",
    "print(details)\n",
    "\n",
    "# Get logged metrics\n",
    "metrics = run.get_metrics()\n",
    "print(json.dumps(metrics, indent=2))\n",
    "\n",
    "# Get output files\n",
    "files = run.get_file_names()\n",
    "print(json.dumps(files, indent=2))"
   ]
  },
  {
   "cell_type": "markdown",
   "metadata": {},
   "source": [
    "Experiments are recorded in your workspace, with a record for each run of the experiment. To see all of the experiments and their runs, you can use the following code."
   ]
  },
  {
   "cell_type": "code",
   "execution_count": null,
   "metadata": {},
   "outputs": [],
   "source": [
    "for experiment_id in ws.experiments:\n",
    "    experiment = ws.experiments[experiment_id]\n",
    "    print(\"Experiment:\", experiment_id)\n",
    "    for experiment_run in experiment.get_runs():\n",
    "        print(\"\\tRun ID:\", experiment_run.id)\n",
    "        print(\"\\tName:\", experiment_run.name)\n",
    "        print(\"\\tType:\", experiment_run.type)\n",
    "        print(\"\\tStatus:\",experiment_run.status, \"\\n\")"
   ]
  },
  {
   "cell_type": "markdown",
   "metadata": {},
   "source": [
    "You can also view details of experiment runs in the [Azure ML Studio web interface](https://ml.azure.com). Go there now and explore the details for this run on the **Experiments** tab. When you view the details for the run, you can see metrics that were logged, the images that were created by plots, and output values that were generated.\n",
    "\n",
    "## Task 3: Run an Experiment Script\n",
    "\n",
    "In the previous example, you ran an experiment inline in this notebook. A more flexible solution is to create a separate script for the experiment, and store it in a folder along with any other files it needs, and then use Azure ML to run the experiment based on the script in the folder.\n",
    "\n",
    "Let's create a folder for the experiment:"
   ]
  },
  {
   "cell_type": "code",
   "execution_count": null,
   "metadata": {},
   "outputs": [],
   "source": [
    "import os, shutil\n",
    "\n",
    "# Create an experiment\n",
    "experiment_name = 'diabetes-experiment'\n",
    "\n",
    "# Create a folder for the experiment files\n",
    "experiment_folder = './' + experiment_name\n",
    "os.makedirs(experiment_folder, exist_ok=True)\n",
    "\n",
    "# Copy the data file into the experiment folder\n",
    "shutil.copy('data/diabetes.csv', os.path.join(experiment_name, \"diabetes.csv\"))"
   ]
  },
  {
   "cell_type": "markdown",
   "metadata": {},
   "source": [
    "Now we'll create a Python script containing the experiment code. Note that this code is the same as the inline code used before, except we use the `Run.get_context()` method to retrieve the experiment run context when the script is run, and we load the diabetes data from the folder where the script is located:"
   ]
  },
  {
   "cell_type": "code",
   "execution_count": null,
   "metadata": {},
   "outputs": [],
   "source": [
    "%%writefile $experiment_folder/diabetes_experiment.py\n",
    "from azureml.core import Run\n",
    "import pandas as pd\n",
    "import matplotlib.pyplot as plt\n",
    "\n",
    "# Get the experiment run context\n",
    "run = Run.get_context()\n",
    "\n",
    "# load the diabetes dataset\n",
    "data = pd.read_csv('./diabetes.csv')\n",
    "\n",
    "# Count the rows and log the result\n",
    "row_count = (len(data))\n",
    "run.log(\"observations\", row_count)\n",
    "\n",
    "# Create box plots for each feature variable by the \"diabetic\" label and log them\n",
    "num_cols = data.columns[:-1]\n",
    "for col in num_cols:\n",
    "    fig = plt.figure(figsize=(9, 6))\n",
    "    ax = fig.gca()\n",
    "    data.boxplot(column = col, by = \"Diabetic\", ax = ax)\n",
    "    ax.set_title(col + ' by Diabetic')\n",
    "    ax.set_ylabel(col)\n",
    "    run.log_image(name = col, plot = fig)\n",
    "plt.show()\n",
    "\n",
    "# Create a list of mean diabetes pedigree per age and log it\n",
    "mean_by_age = data[[\"Age\", \"DiabetesPedigree\"]].groupby([\"Age\"]).mean().reset_index()\n",
    "ages = mean_by_age[\"Age\"].tolist()\n",
    "pedigrees = mean_by_age[\"DiabetesPedigree\"].tolist()\n",
    "for index in range(len(ages)):\n",
    "       run.log_row(\"Mean Diabetes Pedigree by Age\", Age = ages[index],Diabetes_Pedigree = pedigrees[index])\n",
    "\n",
    "# Save a sample of the data and upload it to the experiment output\n",
    "data.sample(100).to_csv(\"sample.csv\", index=False, header=True)\n",
    "run.upload_file(name = 'outputs/sample.csv', path_or_stream = './sample.csv')\n",
    "\n",
    "# Complete tracking and get link to details\n",
    "run.complete()"
   ]
  },
  {
   "cell_type": "markdown",
   "metadata": {},
   "source": [
    "Now you're almost ready to run the experiment. There are just a few configuration issues you need to deal with:\n",
    "\n",
    "1. Create a *Run Configuration* that defines the Python code execution environment for the script - in this case, you'll create a new Conda environment that includes the required packages.\n",
    "2. Create a *Script Configuration* that identifies the Python script file to be run in the experiment, and the environment in which to run it.\n",
    "\n",
    "The following cell sets up these configuration objects, and then submits the experiment."
   ]
  },
  {
   "cell_type": "code",
   "execution_count": null,
   "metadata": {},
   "outputs": [],
   "source": [
    "import os\n",
    "from azureml.core import Environment\n",
    "from azureml.core.conda_dependencies import CondaDependencies\n",
    "from azureml.core import Experiment, RunConfiguration\n",
    "from azureml.core import ScriptRunConfig\n",
    "from azureml.core import Experiment\n",
    "\n",
    "# create a new RunConfig object\n",
    "run_config = RunConfiguration()\n",
    "\n",
    "# Create a Python environment for the experiment\n",
    "diabetes_env = Environment(\"diabetes-experiment-env\")\n",
    "diabetes_env.python.user_managed_dependencies = False # We'll let Azure ML manage dependencies\n",
    "diabetes_env.docker.enabled = False # Don't use a docker container (default is true)\n",
    "\n",
    "# Create a set of package dependencies (conda or pip as required)\n",
    "diabetes_conda = CondaDependencies.create(conda_packages=['pandas','ipykernel','matplotlib'],\n",
    "                                          pip_packages=['azureml-sdk','argparse','pyarrow'])\n",
    "\n",
    "# Add the dependencies to the environment\n",
    "diabetes_env.python.conda_dependencies = diabetes_conda\n",
    "\n",
    "# Use this python environment in the run config\n",
    "run_config.environment = diabetes_env\n",
    "\n",
    "# Create a script config\n",
    "src = ScriptRunConfig(source_directory=experiment_folder, \n",
    "                      script='diabetes_experiment.py',\n",
    "                      run_config=run_config) \n",
    "\n",
    "# submit the experiment\n",
    "experiment = Experiment(workspace = ws, name = experiment_name)\n",
    "run = experiment.submit(config=src)\n",
    "run.wait_for_completion(show_output=True)"
   ]
  },
  {
   "cell_type": "markdown",
   "metadata": {},
   "source": [
    "As before, you can write code to retrieve the metrics and files generated by the run:"
   ]
  },
  {
   "cell_type": "code",
   "execution_count": null,
   "metadata": {},
   "outputs": [],
   "source": [
    "# Get logged metrics\n",
    "metrics = run.get_metrics()\n",
    "print(json.dumps(metrics, indent=2))\n",
    "\n",
    "# Get output files\n",
    "files = run.get_file_names()\n",
    "print(json.dumps(files, indent=2))"
   ]
  },
  {
   "cell_type": "markdown",
   "metadata": {},
   "source": [
    "At any time, if you know the name of the experiment, you can get it's list of runs Iin reverse chronological order, so the most recent run is listed first)."
   ]
  },
  {
   "cell_type": "code",
   "execution_count": null,
   "metadata": {},
   "outputs": [],
   "source": [
    "experiment = ws.experiments[experiment_name]\n",
    "print(\"Experiment:\", experiment.name)\n",
    "for experiment_run in experiment.get_runs():\n",
    "    print(\"\\tRun ID:\", experiment_run.id)\n",
    "    print(\"\\tName:\", experiment_run.name)\n",
    "    print(\"\\tType:\", experiment_run.type)\n",
    "    print(\"\\tStatus:\",experiment_run.status, \"\\n\")"
   ]
  },
  {
   "cell_type": "markdown",
   "metadata": {},
   "source": [
    "Of course, you can also use the [Azure ML Studio web interface](https://ml.azure.com) to view the outputs generated by the latest run of the experiment.\n",
    "\n",
    "> **More Information**: To find out more about running experiments, see [this topic](https://docs.microsoft.com/en-us/azure/machine-learning/service/how-to-manage-runs) in the Azure ML documentation. For details of how to log metrics in a run, see [this topic](https://docs.microsoft.com/en-us/azure/machine-learning/service/how-to-track-experiments)."
   ]
  }
 ],
 "metadata": {
  "kernelspec": {
   "display_name": "Python 3.6 - AzureML",
   "language": "python",
   "name": "python3-azureml"
  },
  "language_info": {
   "codemirror_mode": {
    "name": "ipython",
    "version": 3
   },
   "file_extension": ".py",
   "mimetype": "text/x-python",
   "name": "python",
   "nbconvert_exporter": "python",
   "pygments_lexer": "ipython3",
   "version": "3.6.9"
  }
 },
 "nbformat": 4,
 "nbformat_minor": 2
}
